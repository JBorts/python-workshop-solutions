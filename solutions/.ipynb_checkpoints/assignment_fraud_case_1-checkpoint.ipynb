{
 "cells": [
  {
   "cell_type": "markdown",
   "metadata": {},
   "source": [
    "### Fraud Case 1: Claims just below an approval threshold\n",
    "Assuming that the signing limit of a company is \\\\$500. If someone was trying to defraud the company, they'd probably want to keep the payment amount below this threshold. To identify this type of fraud, write a program that:\n",
    "- finds a list of unique claimants (`uploader` column)\n",
    "- loops through the list of unique claimants and for each claimant\n",
    "   * finds all submitted claims\n",
    "   * finds the number of claims between \\\\$490 and \\\\$500 (sum of `amount` and `tax_amount`)\n",
    "   * calculates percentage of claims just below the threshold\n",
    "- ranks claimants by those with a high percentage of claims just below the approval threshold"
   ]
  },
  {
   "cell_type": "code",
   "execution_count": 1,
   "metadata": {},
   "outputs": [],
   "source": [
    "# importing data\n",
    "import pandas as pd\n",
    "data = pd.read_csv('assignment-data.csv')\n",
    "\n",
    "# importing validation and tweet function\n",
    "from ipynb.fs.full.utilities import tweet\n",
    "from ipynb.fs.full.utilities import validate"
   ]
  },
  {
   "cell_type": "code",
   "execution_count": 2,
   "metadata": {},
   "outputs": [
    {
     "name": "stdout",
     "output_type": "stream",
     "text": [
      "             uploader  percentage\n",
      "27      Norman Osborn   95.000000\n",
      "26    Harleen Quinzel    4.761905\n",
      "9        Helga Pataki    2.307692\n",
      "5        Elroy Jetson    2.212389\n",
      "11        Jane Jetson    2.136422\n",
      "24  Wendy Testaburger    2.040816\n",
      "19       Sandy Cheeks    2.024603\n",
      "29         Lex Luthor    2.013423\n",
      "1     Chuckie Finster    2.010178\n",
      "4          Elmer Fudd    1.969200\n"
     ]
    }
   ],
   "source": [
    "# Add a new coloumn to data called total_amount and assign sum of amount and tax_amount colomn to it\n",
    "# HINT: Refer to item 7 in the cheat sheet\n",
    "data['total_amount'] = data.amount + data.tax_amount\n",
    "\n",
    "# Find a list of unique claimants\n",
    "# HINT: Refer to item 3 in the cheat sheet\n",
    "uploaders = data['uploader'].unique()\n",
    "\n",
    "# Create a new dataframe with two colomns, uploader and percentage and call it uploader_data\n",
    "# We will be storing the uploader name and percentage of claims just below the threshold in this data_frame\n",
    "# HINT: Refer to item 1 in the cheat sheet\n",
    "uploader_data = pd.DataFrame(columns=['uploader', 'percentage'])\n",
    "\n",
    "# Loop through the list of unique claimants using a for loop\n",
    "# HINT: Refer to item 10 in the cheat sheet\n",
    "for uploader in uploaders:\n",
    "\n",
    "    # Filter the data to find the claims submitted by the claimant\n",
    "    # HINT: Refer to item 8 in the cheat sheet\n",
    "    filter = data.uploader == uploader\n",
    "    uploader_recipts = data[filter]\n",
    "\n",
    "    # Find the claims where the total_amount is between $400 and $500\n",
    "    # HINT: Refer to item 8 in the cheat sheet\n",
    "    filter1 =  uploader_recipts.total_amount > 490\n",
    "    filter2 =  uploader_recipts.total_amount < 500\n",
    "    suspected_fraud_receipts = uploader_recipts[filter1 & filter2]\n",
    "\n",
    "    # Calculate the percentage of claims just below the approval threshold \n",
    "    # HINT: Refer to item 12 in the cheat sheet\n",
    "    percentage = len(suspected_fraud_receipts) / len(uploader_recipts) * 100\n",
    "\n",
    "    # Add a new row to uploader_date dataframe with the uploader name and the percantage\n",
    "    # HINT: Refer to item 2 in the cheat sheet\n",
    "    uploader_data = uploader_data.append({'uploader': uploader, 'percentage': percentage}, ignore_index=True)\n",
    "    \n",
    "# Sort the uploader_date dataframe by the percentage\n",
    "# HINT: Refer to item 4 in the cheat sheet\n",
    "sorted_data = uploader_data.sort_values(by=['percentage'], ascending=False)\n",
    "print(sorted_data.head(10))"
   ]
  },
  {
   "cell_type": "code",
   "execution_count": 3,
   "metadata": {},
   "outputs": [
    {
     "name": "stdout",
     "output_type": "stream",
     "text": [
      "Yay! You got it!\n"
     ]
    }
   ],
   "source": [
    "# Assign the name of the claimant with the highest percentage of claims just below the threshold to fraudster_name\n",
    "fraudster_name = str(sorted_data.iloc[0]['uploader'])\n",
    "validate('FraudCase1', fraudster_name, 'Mentors')"
   ]
  }
 ],
 "metadata": {
  "kernelspec": {
   "display_name": "Python 3",
   "language": "python",
   "name": "python3"
  },
  "language_info": {
   "codemirror_mode": {
    "name": "ipython",
    "version": 3
   },
   "file_extension": ".py",
   "mimetype": "text/x-python",
   "name": "python",
   "nbconvert_exporter": "python",
   "pygments_lexer": "ipython3",
   "version": "3.7.3"
  }
 },
 "nbformat": 4,
 "nbformat_minor": 2
}
